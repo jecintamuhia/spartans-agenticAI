{
 "cells": [
  {
   "cell_type": "code",
   "execution_count": 1,
   "id": "b41d9be2-f338-4c37-92ab-ed29790919d7",
   "metadata": {},
   "outputs": [
    {
     "name": "stdout",
     "output_type": "stream",
     "text": [
      "Requirement already satisfied: requests in /home/studen/agenticenv/lib/python3.13/site-packages (2.32.4)\n",
      "Requirement already satisfied: beautifulsoup4 in /home/studen/agenticenv/lib/python3.13/site-packages (4.13.4)\n",
      "Requirement already satisfied: charset_normalizer<4,>=2 in /home/studen/agenticenv/lib/python3.13/site-packages (from requests) (3.4.2)\n",
      "Requirement already satisfied: idna<4,>=2.5 in /home/studen/agenticenv/lib/python3.13/site-packages (from requests) (3.10)\n",
      "Requirement already satisfied: urllib3<3,>=1.21.1 in /home/studen/agenticenv/lib/python3.13/site-packages (from requests) (2.5.0)\n",
      "Requirement already satisfied: certifi>=2017.4.17 in /home/studen/agenticenv/lib/python3.13/site-packages (from requests) (2025.6.15)\n",
      "Requirement already satisfied: soupsieve>1.2 in /home/studen/agenticenv/lib/python3.13/site-packages (from beautifulsoup4) (2.7)\n",
      "Requirement already satisfied: typing-extensions>=4.0.0 in /home/studen/agenticenv/lib/python3.13/site-packages (from beautifulsoup4) (4.14.0)\n"
     ]
    }
   ],
   "source": [
    "!pip install requests beautifulsoup4"
   ]
  },
  {
   "cell_type": "code",
   "execution_count": 2,
   "id": "89ec2b7e-e974-4180-9ddf-c62b56b30554",
   "metadata": {},
   "outputs": [
    {
     "name": "stdout",
     "output_type": "stream",
     "text": [
      "Found 33 URLs under domain farmraise.com:\n",
      "\n",
      "https://www.farmraise.com/terms\n",
      "https://www.farmraise.com/cooperative-extension-solutions\n",
      "https://www.farmraise.com/usda-fsa\n",
      "https://www.farmraise.com/blog/thinking-beyond-corn-and-cattle-7-specialty-crops-that-can-boost-farm-income\n",
      "https://www.farmraise.com/\n",
      "https://www.farmraise.com/grower-supplier-networks\n",
      "https://www.farmraise.com/agriculture-program-management-solutions\n",
      "https://www.farmraise.com/?gad_source=1&gclid=Cj0KCQiAst67BhCEARIsAKKdWOlFQYW0FQ-UUX6bxdXXVBl4Di2wAbeUREydlSCTg-GkE4L6CJ9-qREaAq3AEALw_wcB\n",
      "https://www.farmraise.com/financial-planning\n",
      "https://www.farmraise.com/faq\n",
      "https://www.farmraise.com/pricing\n",
      "https://www.farmraise.com/blog\n",
      "https://app.farmraise.com/pricing?promoCode=8MELC9\n",
      "https://www.farmraise.com/referral-program-terms-conditions\n",
      "https://www.farmraise.com/how-farmraise-works/\n",
      "https://www.farmraise.com/blog/agricultural-tax-credit-tips\n",
      "https://www.farmraise.com/farmraise-tracks\n",
      "https://www.farmraise.com/our-story\n",
      "https://www.farmraise.com/blog/make-it-easy-to-get-paid-how-to-send-a-professional-invoice-from-your-tractor-seat\n",
      "https://www.farmraise.com/privacy\n",
      "https://www.farmraise.com/team\n",
      "https://help.farmraise.com/en/\n",
      "https://www.farmraise.com/farmraise-payroll\n",
      "https://www.farmraise.com/blog/farm-funding-101-what-every-new-farmer-should-know-before-applying-for-a-loan\n",
      "https://www.farmraise.com/how-farmraise-works\n",
      "https://www.farmraise.com/taxes-schedule-f\n",
      "https://app.farmraise.com/login\n",
      "https://www.farmraise.com/grant-administration-software\n",
      "https://www.farmraise.com/reviews\n",
      "https://www.farmraise.com/contact-us\n",
      "https://www.farmraise.com/government-solutions\n",
      "https://www.farmraise.com/blog/from-field-to-funds-using-invoicing-to-track-custom-work-hay-sales-and-more\n",
      "https://www.farmraise.com/farm-program-administration-software\n"
     ]
    }
   ],
   "source": [
    "import requests\n",
    "from bs4 import BeautifulSoup\n",
    "from urllib.parse import urljoin, urlparse\n",
    "# Starting URL\n",
    "base_url = \"https://www.farmraise.com/blog/farm-funding-101-what-every-new-farmer-should-know-before-applying-for-a-loan\"\n",
    "domain = \"farmraise.com\"\n",
    "def get_sub_urls(url, domain):\n",
    "    try:\n",
    "        response = requests.get(url)\n",
    "        response.raise_for_status()\n",
    "    except Exception as e:\n",
    "        print(f\"Failed to retrieve {url}: {e}\")\n",
    "        return []\n",
    "    soup = BeautifulSoup(response.text, 'html.parser')\n",
    "    links = set()\n",
    "    for a_tag in soup.find_all('a', href=True):\n",
    "        href = a_tag['href']\n",
    "        # Make absolute URL\n",
    "        full_url = urljoin(url, href)\n",
    "        # Check domain\n",
    "        \n",
    "        parsed_url = urlparse(full_url)\n",
    "        if domain in parsed_url.netloc:\n",
    "            # Remove URL fragment\n",
    "            clean_url = full_url.split('#')[0]\n",
    "            links.add(clean_url)\n",
    "    return list(links)\n",
    "if __name__ == \"__main__\":\n",
    "    urls = get_sub_urls(base_url, domain)\n",
    "    print(f\"Found {len(urls)} URLs under domain {domain}:\\n\")\n",
    "    for u in urls:\n",
    "        print(u)"
   ]
  },
  {
   "cell_type": "code",
   "execution_count": null,
   "id": "d4ad3635-222c-4679-bd98-c8da21b43d29",
   "metadata": {},
   "outputs": [],
   "source": []
  },
  {
   "cell_type": "code",
   "execution_count": null,
   "id": "ad7b4f22-36de-4aa8-b3e1-10944f711594",
   "metadata": {},
   "outputs": [],
   "source": []
  }
 ],
 "metadata": {
  "kernelspec": {
   "display_name": "Python 3 (ipykernel)",
   "language": "python",
   "name": "python3"
  },
  "language_info": {
   "codemirror_mode": {
    "name": "ipython",
    "version": 3
   },
   "file_extension": ".py",
   "mimetype": "text/x-python",
   "name": "python",
   "nbconvert_exporter": "python",
   "pygments_lexer": "ipython3",
   "version": "3.13.4"
  }
 },
 "nbformat": 4,
 "nbformat_minor": 5
}
