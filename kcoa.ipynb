{
 "cells": [
  {
   "cell_type": "code",
   "execution_count": null,
   "id": "6991afd9-9d33-4452-94ce-6f8dfe73dccb",
   "metadata": {},
   "outputs": [],
   "source": [
    "!pip install requests beautifulsoup4\n",
    "\n",
    "\n"
   ]
  },
  {
   "cell_type": "code",
   "execution_count": null,
   "id": "43f31699-f6ae-40a2-b741-1d68826cb833",
   "metadata": {},
   "outputs": [
    {
     "name": "stdout",
     "output_type": "stream",
     "text": [
      "Discovered: https://kcoa-africa.org/the-smart-farmers-guide-to-agricultural-loans-borrowing-without-regret/\n"
     ]
    }
   ],
   "source": [
    "import requests\n",
    "from bs4 import BeautifulSoup\n",
    "from urllib.parse import urljoin, urlparse\n",
    "import json\n",
    "\n",
    "def get_all_links_json(url, domain, crawled_links=None):\n",
    "    if crawled_links is None:\n",
    "        crawled_links = set()\n",
    "\n",
    "    urls_found = []\n",
    "\n",
    "    try:\n",
    "        response = requests.get(url, timeout=10)\n",
    "        response.raise_for_status()\n",
    "    except Exception as e:\n",
    "        print(f\"Failed to retrieve {url}: {e}\")\n",
    "        return list(crawled_links)\n",
    "\n",
    "    soup = BeautifulSoup(response.text, 'html.parser')\n",
    "    for a_tag in soup.find_all('a', href=True):\n",
    "        href = a_tag['href']\n",
    "        full_url = urljoin(url, href)\n",
    "        parsed_url = urlparse(full_url)\n",
    "\n",
    "        if domain in parsed_url.netloc:\n",
    "            clean_url = full_url.split('#')[0]\n",
    "            if clean_url not in crawled_links:\n",
    "                crawled_links.add(clean_url)\n",
    "                urls_found.append(clean_url)\n",
    "                print(f\"Discovered: {clean_url}\")\n",
    "                # Recursive crawl\n",
    "                get_all_links_json(clean_url, domain, crawled_links)\n",
    "\n",
    "    return list(crawled_links)\n",
    "\n",
    "\n",
    "base_url = \"https://kcoa-africa.org/the-smart-farmers-guide-to-agricultural-loans-borrowing-without-regret/\"\n",
    "domain = \"kcoa-africa.org\"\n",
    "\n",
    "all_internal_links = get_all_links_json(base_url, domain)\n",
    "result_json = json.dumps({\n",
    "    \"base_url\": base_url,\n",
    "    \"total_links\": len(all_internal_links),\n",
    "    \"internal_links\": all_internal_links\n",
    "}, indent=2)\n",
    "\n",
    "\n",
    "print(result_json)\n",
    "\n",
    "\n"
   ]
  },
  {
   "cell_type": "code",
   "execution_count": null,
   "id": "eb7fb2da-3a24-451b-b073-50c644a985b2",
   "metadata": {},
   "outputs": [],
   "source": []
  }
 ],
 "metadata": {
  "kernelspec": {
   "display_name": "Python 3 (ipykernel)",
   "language": "python",
   "name": "python3"
  },
  "language_info": {
   "codemirror_mode": {
    "name": "ipython",
    "version": 3
   },
   "file_extension": ".py",
   "mimetype": "text/x-python",
   "name": "python",
   "nbconvert_exporter": "python",
   "pygments_lexer": "ipython3",
   "version": "3.13.4"
  }
 },
 "nbformat": 4,
 "nbformat_minor": 5
}
